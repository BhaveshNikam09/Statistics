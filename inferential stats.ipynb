{
 "cells": [
  {
   "cell_type": "markdown",
   "id": "cddf6d57",
   "metadata": {},
   "source": [
    "### Z-test:\n",
    "        The z-test is used to determine whether two population means are \n",
    "        different when the variances are known, and the sample size is large.\n",
    "        Assumes data is normally distributed.\n",
    "        Used when sample size 𝑛>30\n",
    "        n>30 (large sample size).\n",
    "        Compares the sample mean to the population mean or two sample means.\n",
    "\n",
    "### T-test:\n",
    "        The t-test determines whether there is a statistically significant difference between the means of two groups.\n",
    "         Types:\n",
    "           1.One-sample t-test: Compares the sample mean to a known value.\n",
    "           2.Two-sample t-test: Compares the means of two independent groups.\n",
    "           3.Paired t-test: Compares the means of the same group at different times.\n",
    "### Chi-squre test:\n",
    "        The chi-square test is used to test the relationship between categorical variables in a contingency table.\n",
    "        Used to test if two categorical variables are independent.\n",
    "        Compares observed and expected frequencies.\n",
    "\n",
    "### Anova:\n",
    "        The ANOVA test is used to determine if there are statistically significant differences between the means of three or more groups.\n",
    "\n",
    "            Types:\n",
    "              1.One-Way ANOVA: Tests one independent variable.\n",
    "              2.Two-Way ANOVA: Tests two independent variables."
   ]
  },
  {
   "cell_type": "code",
   "execution_count": 6,
   "id": "2b0198b7",
   "metadata": {},
   "outputs": [],
   "source": [
    "import numpy as np\n",
    "import scipy.stats as stats"
   ]
  },
  {
   "cell_type": "code",
   "execution_count": 7,
   "id": "b716081c",
   "metadata": {},
   "outputs": [],
   "source": [
    "sample_mean=110\n",
    "population_mean=100\n",
    "population_std=15\n",
    "sample_size=50\n",
    "alpha=0.05"
   ]
  },
  {
   "cell_type": "code",
   "execution_count": 8,
   "id": "8033f7bb",
   "metadata": {},
   "outputs": [],
   "source": [
    "confidence_interval=1-0.05"
   ]
  },
  {
   "cell_type": "code",
   "execution_count": 9,
   "id": "c01343e4",
   "metadata": {},
   "outputs": [
    {
     "data": {
      "text/plain": [
       "0.95"
      ]
     },
     "execution_count": 9,
     "metadata": {},
     "output_type": "execute_result"
    }
   ],
   "source": [
    "confidence_interval"
   ]
  },
  {
   "cell_type": "code",
   "execution_count": 10,
   "id": "3411d581",
   "metadata": {},
   "outputs": [],
   "source": [
    "z_score=(sample_mean-population_mean)/(population_std/np.sqrt(50))"
   ]
  },
  {
   "cell_type": "code",
   "execution_count": 11,
   "id": "d1b43373",
   "metadata": {},
   "outputs": [
    {
     "data": {
      "text/plain": [
       "4.714045207910317"
      ]
     },
     "execution_count": 11,
     "metadata": {},
     "output_type": "execute_result"
    }
   ],
   "source": [
    "z_score"
   ]
  },
  {
   "cell_type": "code",
   "execution_count": 12,
   "id": "c91d2fb4",
   "metadata": {},
   "outputs": [],
   "source": [
    "z_crictical=stats.norm.ppf(confidence_interval)"
   ]
  },
  {
   "cell_type": "code",
   "execution_count": 13,
   "id": "2ee8e38d",
   "metadata": {},
   "outputs": [
    {
     "name": "stdout",
     "output_type": "stream",
     "text": [
      "reject the null hyphothesis\n"
     ]
    }
   ],
   "source": [
    "if z_score>z_crictical:\n",
    "    print(\"reject the null hyphothesis\")\n",
    "else:\n",
    "    print(\"fail to reject the null hyphothesis\")"
   ]
  },
  {
   "cell_type": "code",
   "execution_count": 14,
   "id": "f604ee9b",
   "metadata": {},
   "outputs": [],
   "source": [
    "p_value=1-0.9999966"
   ]
  },
  {
   "cell_type": "code",
   "execution_count": 15,
   "id": "90a8f64f",
   "metadata": {},
   "outputs": [
    {
     "name": "stdout",
     "output_type": "stream",
     "text": [
      "reject the null hyphothesis\n"
     ]
    }
   ],
   "source": [
    "if p_value<alpha:\n",
    "    print(\"reject the null hyphothesis\")\n",
    "    \n",
    "else:\n",
    "    print(\"fail to reject the null hyphothesis\")"
   ]
  },
  {
   "cell_type": "code",
   "execution_count": 16,
   "id": "8c7015b5",
   "metadata": {},
   "outputs": [],
   "source": [
    "from numpy.random import randn\n",
    "mydata=randn(500)"
   ]
  },
  {
   "cell_type": "code",
   "execution_count": 17,
   "id": "92f0c475",
   "metadata": {},
   "outputs": [
    {
     "name": "stdout",
     "output_type": "stream",
     "text": [
      "[ 6.59484666e-01  1.24176378e+00 -1.52535706e-01  5.91979638e-01\n",
      "  1.32039695e-01 -1.39532951e+00  3.20338897e-02  2.94381377e+00\n",
      "  5.30411567e-01  7.34546623e-01  9.33028143e-01  2.05908705e+00\n",
      "  2.07189438e-02 -7.49618730e-01 -1.58900032e+00  3.71877352e-01\n",
      "  3.49673611e-01 -1.04162189e+00  1.63002133e+00  2.90813844e-01\n",
      "  1.01365890e+00 -6.50908043e-01  5.15538825e-01  1.56640151e-02\n",
      " -9.30449390e-02  1.35351844e+00 -9.93900363e-01 -4.70870231e-03\n",
      " -5.12002566e-01  5.95547290e-01  4.41987742e-01  3.17834525e-01\n",
      "  3.31774984e-01  3.07408016e-01  5.06368607e-01 -2.39737890e+00\n",
      " -8.98761502e-01  4.59921065e-01 -9.46592395e-01 -2.07857153e+00\n",
      "  8.29092349e-01 -2.05523842e-02 -3.46355083e-01  1.98559376e-01\n",
      " -1.01648410e+00 -1.33882050e-01  1.02506235e+00  9.44520420e-01\n",
      "  2.44911733e+00 -1.82297221e+00 -7.55752557e-01  3.23937498e-02\n",
      "  1.26845220e+00  2.42610226e-02 -3.48203171e-01  4.41637904e-03\n",
      " -1.62698330e+00  1.54123952e+00  8.41814307e-01  4.76190414e-01\n",
      "  7.60908765e-01 -2.80701085e-01 -8.46081654e-01  2.29710971e-02\n",
      " -6.74936467e-01  8.02576048e-01 -4.00146079e-01  1.52564432e+00\n",
      " -2.18120816e+00 -4.64054666e-01  5.94430796e-01 -5.15279746e-01\n",
      "  5.68492943e-01 -1.15174357e+00 -8.72977324e-01  1.04509543e+00\n",
      "  4.77901887e-01  1.87892598e+00 -5.68179854e-02  8.20849401e-02\n",
      " -2.19963260e-01  9.24444458e-01 -5.02967914e-01 -3.67381427e-01\n",
      " -6.84653601e-01 -1.13248087e+00  7.78789393e-01 -7.28054407e-02\n",
      "  2.01775921e+00  8.89119561e-01  1.17716764e+00  1.78120555e+00\n",
      "  4.42715243e-01 -1.49025287e+00 -1.62870741e+00 -1.17406219e+00\n",
      "  9.46060084e-01 -1.00047655e+00  1.93078823e+00  3.32052704e-01\n",
      " -1.22691311e+00 -2.91385025e-01  3.92855281e-01  1.20719912e+00\n",
      " -7.77945962e-01  1.54306671e-01  5.21929055e-01  1.29513016e+00\n",
      " -3.67302425e-01  1.14814040e+00 -2.14317836e-01  1.34111587e-01\n",
      "  4.41431111e-01 -8.86941640e-01 -4.20561539e-01  7.26583158e-01\n",
      "  1.03643996e+00 -1.96957055e-01  7.22313464e-01  1.43335560e+00\n",
      " -1.76383009e+00 -4.08098666e-01  1.16166392e+00 -1.00033765e+00\n",
      " -1.02933305e-01 -1.18723170e+00 -6.01376136e-03  4.17481146e-01\n",
      " -2.90707570e-01  1.45199618e+00 -1.63169513e+00  3.20481401e+00\n",
      "  1.61742124e+00 -1.87951923e+00 -5.66641829e-01  6.62271508e-01\n",
      " -6.83381086e-01 -8.12237677e-01 -6.72453942e-01  5.46852158e-01\n",
      " -1.22928883e+00 -1.45513817e+00 -3.59492150e-01 -1.19874512e+00\n",
      "  1.27874193e+00 -9.16644328e-03  4.58879304e-01  4.38437606e-01\n",
      "  1.76735332e-01  7.55123932e-01  1.45149890e+00  1.66443018e+00\n",
      "  2.01610118e-01 -1.23317847e+00 -1.37011738e+00 -6.09547136e-01\n",
      " -1.52680900e-01 -7.50411401e-01 -1.17120819e+00  1.13349875e-01\n",
      " -7.17923182e-01  7.03617856e-01  2.14027969e-01  2.39453078e+00\n",
      "  5.86618535e-01  2.53307322e-01 -1.71179710e+00  8.48022739e-02\n",
      " -1.11033066e+00  1.47428620e-02  4.50058087e-01 -1.48339349e+00\n",
      "  2.28521784e-01 -1.05015607e-02  1.63354816e+00  6.32084579e-01\n",
      " -7.37491276e-01 -6.34534147e-01  5.21400941e-01  9.30078611e-01\n",
      " -1.38853052e-01  7.80984563e-01 -9.56077768e-01  1.87763233e-01\n",
      "  2.69425770e-01  5.62305461e-01 -7.43495234e-01  1.49223079e+00\n",
      " -5.54157678e-01  8.26440589e-01  1.20834691e-02 -1.60607040e-01\n",
      "  4.71179447e-02 -2.69867726e-01 -1.11975213e-01  2.92402131e-01\n",
      "  3.86418031e-01 -5.44568427e-01 -5.14902681e-01 -9.48101613e-02\n",
      "  1.19479231e+00  1.81331138e+00  5.08613918e-01 -8.85558429e-01\n",
      "  6.06018620e-01 -1.08334962e-01  5.84358925e-01 -8.74156561e-01\n",
      " -5.42283385e-01  1.37366158e-01 -9.38681174e-01 -7.34808999e-01\n",
      " -1.04178489e+00  3.63393995e-01 -5.51577745e-02  3.87750645e-01\n",
      " -1.13551081e+00 -1.42493622e-01 -1.65030375e+00  5.68911012e-01\n",
      " -5.36281164e-01  1.31279905e+00 -6.51313088e-01  5.30054187e-01\n",
      "  9.20058592e-01  2.32235365e-01 -1.50410125e+00 -9.59420396e-03\n",
      " -1.05637547e+00  5.04512747e-01 -2.72228253e+00 -6.81655607e-01\n",
      "  2.26919519e-01  4.03847358e-01  6.38709729e-01 -8.11387449e-01\n",
      "  6.07495885e-01  1.71843663e+00 -1.66140282e-01 -3.56781540e-01\n",
      " -1.42179519e+00 -2.58440869e-01 -1.12131607e+00 -6.65878625e-01\n",
      "  1.16387070e+00  9.77307818e-01  7.57480880e-01 -1.31391635e+00\n",
      " -2.25593325e-01 -5.11864366e-01  1.58686736e+00 -1.07251611e+00\n",
      "  4.06025461e-01 -4.49736798e-02  1.08986748e+00 -1.69242060e-01\n",
      "  5.90371142e-01 -7.63514134e-02  1.71648278e-01 -9.56927974e-02\n",
      " -1.29334066e+00  8.83255980e-01  1.59662210e+00  5.30922282e-01\n",
      " -3.42337227e-01  1.05794406e+00  2.43622305e-01 -1.08240314e+00\n",
      "  2.11310699e+00 -1.42975670e+00  5.54700149e-01  1.44122983e+00\n",
      "  2.55963006e-01  1.52766859e+00 -9.58577503e-01  1.15390094e+00\n",
      " -1.24401259e+00 -7.26326697e-01  6.58112386e-01  8.04327494e-01\n",
      " -1.31576586e+00 -1.02252873e-02 -5.93824545e-01 -4.06645480e+00\n",
      "  4.10465554e-01  1.23348413e+00 -1.51222740e+00  4.09874092e-01\n",
      " -1.55787450e+00 -1.38131463e+00  2.51063705e-02 -3.53898975e-01\n",
      " -6.12064853e-01  6.54803186e-01  6.65560008e-01  8.86928461e-01\n",
      "  2.91757442e-01 -2.38700627e-01 -1.29492024e+00 -3.92667647e-01\n",
      " -2.21036877e+00  8.75372965e-02  8.00619890e-01  1.15292298e+00\n",
      "  5.16844192e-01  1.89017397e+00 -1.42016850e-01  1.70072969e+00\n",
      "  1.13161077e+00 -3.50399120e-01  6.12069028e-01  3.12171296e-02\n",
      "  1.51154922e+00  1.69833064e-01  1.33878667e+00 -1.09144201e+00\n",
      "  8.99108753e-02 -3.64667710e-01  3.34782051e-01  1.80657742e-01\n",
      "  8.06070439e-01 -9.86407865e-01  1.11016236e+00 -4.01034428e-02\n",
      " -5.73558424e-02  2.41068449e+00  4.42122027e-01 -1.20918771e-01\n",
      " -9.94307296e-01  1.04178192e+00 -8.43805191e-01  1.05425906e+00\n",
      "  2.07398619e-01 -8.42333462e-02  1.58275580e+00  2.64026408e+00\n",
      " -1.01593725e+00 -1.22709161e-01  5.85473241e-01 -3.42426681e-01\n",
      "  1.57494578e+00  6.36380071e-01 -3.05542583e-01 -1.73201030e+00\n",
      "  1.59464053e+00 -1.41460631e+00 -6.35396606e-01  4.99091329e-01\n",
      " -1.83380835e-01 -5.70879444e-01  1.39602636e+00  1.14067096e-01\n",
      " -2.08185443e-03  4.24711046e-01  2.87017948e-01  1.88421457e+00\n",
      "  6.02130129e-01  7.22766163e-02 -1.04323939e-01 -1.33999423e-02\n",
      "  3.69362574e-01  2.41525372e-01  6.16950387e-01 -4.73112066e-01\n",
      "  6.98495471e-01  7.76254437e-02 -3.98403464e-01  5.91966933e-01\n",
      "  1.30221762e-01  1.21362205e+00  1.93061616e+00  7.86986730e-01\n",
      " -9.00823672e-01  1.05160783e+00  1.07389416e-01 -1.19511479e+00\n",
      " -1.04698627e+00 -7.93295536e-01  8.76870336e-01 -3.29893846e-01\n",
      "  5.92514974e-01 -3.27837735e-01  1.55408172e+00  9.45050927e-01\n",
      " -1.71003821e+00 -1.89947714e-01  3.64374099e-02 -1.26601818e-01\n",
      " -2.77995907e-01 -1.49867870e+00 -4.15173739e-02 -1.18548479e-01\n",
      "  2.27900082e+00  9.01314827e-02 -1.34628179e-01  3.73848135e-01\n",
      "  1.50793987e+00  4.61843368e-01 -1.45233442e-03  2.58071197e-01\n",
      " -8.52263580e-01 -8.96262460e-01  2.83529816e-01  6.60489574e-01\n",
      " -2.00611283e-01 -3.78835094e-01  9.34861503e-01 -8.75107079e-01\n",
      "  8.79948231e-01 -6.03100138e-01 -2.55668305e-01 -2.30219500e-01\n",
      " -1.58036081e-01 -6.32416225e-01  1.22599496e-01  1.74497870e+00\n",
      "  2.60901185e+00 -3.57229220e-01  3.00154401e-01 -1.78609130e+00\n",
      "  2.89312406e+00  3.85084840e-01  1.15629266e-01 -3.79257045e-01\n",
      " -1.85389568e+00  1.62430558e+00  4.27219750e-01  6.75646931e-01\n",
      " -1.15561550e+00  4.08010500e-01  1.17013609e+00  7.67719053e-01\n",
      " -1.83029830e-01  9.85094538e-01 -1.78376400e+00 -7.44390234e-01\n",
      "  1.64886758e-01  9.89569664e-01  2.82327816e+00  2.59568749e-01\n",
      " -1.51248506e-01  3.63514983e-01 -1.17136458e+00  5.95538226e-01\n",
      " -6.38848045e-01 -8.08333952e-01  2.10854424e+00 -1.42897770e+00\n",
      " -1.96990504e-01  1.92122853e+00 -4.24636643e-01  5.32959308e-01\n",
      " -4.44022277e-01 -9.50773983e-01  1.91690292e-01  1.99722049e+00\n",
      " -9.17681820e-02 -3.10470619e-01  1.93820652e+00 -1.54288809e+00\n",
      " -1.28450142e+00  2.30496953e-01 -1.58902362e+00 -1.58493763e+00\n",
      "  4.17335163e-01 -7.62790568e-01  4.01847587e-01  8.03349332e-01\n",
      " -2.55783466e+00  1.19191607e+00 -1.11709717e+00 -9.56561744e-01\n",
      "  8.08160528e-01  1.04855536e+00 -2.64723476e-01  6.79519540e-01\n",
      " -8.24459363e-01 -3.16764180e-01 -1.61984688e+00  6.33961143e-01\n",
      "  2.03756733e-01  1.27033037e+00 -2.41772446e-01  1.02872867e-01\n",
      "  8.63070840e-01  9.56337987e-01 -6.47767842e-01 -4.57375769e-01\n",
      "  8.71201189e-01  1.55786479e+00  6.10956026e-01  4.75750213e-01\n",
      "  5.67029412e-01 -9.07456214e-01  2.42800608e-01 -4.03784180e-02\n",
      "  1.42822142e-01 -7.81208660e-01  1.06892369e+00 -1.24727673e-01]\n"
     ]
    }
   ],
   "source": [
    "print(mydata)"
   ]
  },
  {
   "cell_type": "code",
   "execution_count": 18,
   "id": "d57b2cc2",
   "metadata": {},
   "outputs": [],
   "source": [
    "import seaborn as sns"
   ]
  },
  {
   "cell_type": "code",
   "execution_count": 19,
   "id": "aeb0bef1",
   "metadata": {},
   "outputs": [
    {
     "name": "stderr",
     "output_type": "stream",
     "text": [
      "C:\\Users\\nikam\\AppData\\Local\\Temp\\ipykernel_6252\\2553040580.py:1: UserWarning: \n",
      "\n",
      "`distplot` is a deprecated function and will be removed in seaborn v0.14.0.\n",
      "\n",
      "Please adapt your code to use either `displot` (a figure-level function with\n",
      "similar flexibility) or `histplot` (an axes-level function for histograms).\n",
      "\n",
      "For a guide to updating your code to use the new functions, please see\n",
      "https://gist.github.com/mwaskom/de44147ed2974457ad6372750bbe5751\n",
      "\n",
      "  sns.distplot(mydata)\n"
     ]
    },
    {
     "data": {
      "text/plain": [
       "<Axes: ylabel='Density'>"
      ]
     },
     "execution_count": 19,
     "metadata": {},
     "output_type": "execute_result"
    },
    {
     "data": {
      "image/png": "[encoded data removed]",
      "text/plain": [
       "<Figure size 640x480 with 1 Axes>"
      ]
     },
     "metadata": {},
     "output_type": "display_data"
    }
   ],
   "source": [
    "sns.distplot(mydata)"
   ]
  },
  {
   "cell_type": "code",
   "execution_count": 20,
   "id": "e273d0e4",
   "metadata": {},
   "outputs": [
    {
     "data": {
      "text/plain": [
       "NormaltestResult(statistic=3.6084858873513417, pvalue=0.1645990201495681)"
      ]
     },
     "execution_count": 20,
     "metadata": {},
     "output_type": "execute_result"
    }
   ],
   "source": [
    "from scipy import stats\n",
    "stats.normaltest(mydata)"
   ]
  },
  {
   "cell_type": "code",
   "execution_count": 21,
   "id": "94d15076",
   "metadata": {},
   "outputs": [],
   "source": [
    "alpha=0.05\n",
    "CI=0.95"
   ]
  },
  {
   "cell_type": "code",
   "execution_count": 22,
   "id": "17c6c96f",
   "metadata": {},
   "outputs": [],
   "source": [
    "sample_mean_iq=110\n",
    "mean_population=100\n",
    "population_std=15"
   ]
  },
  {
   "cell_type": "code",
   "execution_count": 23,
   "id": "21f3a07e",
   "metadata": {},
   "outputs": [
    {
     "data": {
      "text/plain": [
       "array([109.92177566, 115.26205559, 114.89301706, 119.64359993,\n",
       "       100.72355036, 106.03474873, 115.60129907, 108.3685316 ,\n",
       "        94.43989124,  94.74501704, 124.97816708, 104.23047011,\n",
       "       116.66063326,  96.76559749, 106.36108484, 106.32384164,\n",
       "       119.98677676, 106.71525582, 112.60931488, 127.12296056,\n",
       "        89.31741307, 127.91263998,  93.50663481, 120.4110262 ,\n",
       "       117.08561275,  97.9388712 , 113.04476982, 112.19020546,\n",
       "       124.73826369, 108.00616276,  92.12673669, 139.51012448,\n",
       "       101.9852935 , 121.470388  , 115.36519662, 118.60053685,\n",
       "       123.60416614, 130.85593372, 140.37233035, 126.76540881,\n",
       "       130.96438066, 124.4923666 , 116.07380424, 106.03635178,\n",
       "       111.66736369, 133.28516972, 120.79461135, 127.99985133,\n",
       "        89.14428951, 123.21702491])"
      ]
     },
     "execution_count": 23,
     "metadata": {},
     "output_type": "execute_result"
    }
   ],
   "source": [
    "population_std*randn(50)+sample_mean_iq"
   ]
  },
  {
   "cell_type": "code",
   "execution_count": 24,
   "id": "f8c630c0",
   "metadata": {},
   "outputs": [],
   "source": [
    "data=population_std*randn(50)+sample_mean_iq"
   ]
  },
  {
   "cell_type": "code",
   "execution_count": 25,
   "id": "7c891b05",
   "metadata": {},
   "outputs": [
    {
     "data": {
      "text/plain": [
       "array([ 89.08758417, 108.44650636, 108.31758576, 131.09958356,\n",
       "       127.31321656, 115.396397  , 105.38625161, 121.05802924,\n",
       "       117.40684238,  87.20454261, 103.06428254,  94.36354096,\n",
       "       102.5732361 , 112.40060332, 112.30351859, 116.51543818,\n",
       "       108.10394113, 102.90300509, 124.1095604 , 109.18805548,\n",
       "        97.80233254, 110.8049509 ,  87.06124969, 117.56990186,\n",
       "        96.22673078, 120.16167649, 103.09589174,  84.27287294,\n",
       "       105.24060552,  74.83210241, 104.38878515,  89.86252639,\n",
       "        97.77610213,  95.86247604, 105.95610968, 115.59313511,\n",
       "        90.80910186,  96.86985466, 125.30612745, 123.9694742 ,\n",
       "       135.39717036, 117.41822245, 129.66792611, 116.6865659 ,\n",
       "       119.64394284, 103.4485287 , 111.25320277, 121.89387678,\n",
       "       111.58406002,  97.70665058])"
      ]
     },
     "execution_count": 25,
     "metadata": {},
     "output_type": "execute_result"
    }
   ],
   "source": [
    "data"
   ]
  },
  {
   "cell_type": "code",
   "execution_count": 26,
   "id": "6d967b28",
   "metadata": {},
   "outputs": [
    {
     "data": {
      "text/plain": [
       "108.08807750168721"
      ]
     },
     "execution_count": 26,
     "metadata": {},
     "output_type": "execute_result"
    }
   ],
   "source": [
    "np.mean(data)"
   ]
  },
  {
   "cell_type": "code",
   "execution_count": 27,
   "id": "b3e6dec5",
   "metadata": {},
   "outputs": [
    {
     "data": {
      "text/plain": [
       "13.243867579018497"
      ]
     },
     "execution_count": 27,
     "metadata": {},
     "output_type": "execute_result"
    }
   ],
   "source": [
    "np.std(data)"
   ]
  },
  {
   "cell_type": "code",
   "execution_count": 28,
   "id": "65d2aaae",
   "metadata": {},
   "outputs": [],
   "source": [
    "null_hyphothesis=mean_population"
   ]
  },
  {
   "cell_type": "code",
   "execution_count": 29,
   "id": "99e4c3ea",
   "metadata": {},
   "outputs": [
    {
     "data": {
      "text/plain": [
       "(4.274925143581534, 9.560076230852627e-06)"
      ]
     },
     "execution_count": 29,
     "metadata": {},
     "output_type": "execute_result"
    }
   ],
   "source": [
    "from statsmodels.stats.weightstats import ztest\n",
    "ztest(data,value=null_hyphothesis,alternative=\"larger\")"
   ]
  },
  {
   "cell_type": "code",
   "execution_count": 30,
   "id": "44f9c507",
   "metadata": {},
   "outputs": [
    {
     "name": "stdout",
     "output_type": "stream",
     "text": [
      "reject the null hyphothesis\n"
     ]
    }
   ],
   "source": [
    "if p_value<alpha:\n",
    "    print(\"reject the null hyphothesis\")\n",
    "    \n",
    "else:\n",
    "    print(\"fail to reject the null hyphothesis\")"
   ]
  },
  {
   "cell_type": "markdown",
   "metadata": {},
   "source": [
    "Types of T-Test:\n",
    "\n",
    "1.one-sample t test(with respect to one independent sample)\n",
    "\n",
    "2.two- sample t test(with respect to two independent sample)\n",
    "\n",
    "3.paried t-test(two sample from the same populatoin on a different time interval)"
   ]
  },
  {
   "cell_type": "code",
   "execution_count": 36,
   "id": "027207ed",
   "metadata": {},
   "outputs": [],
   "source": [
    "my_cricket_score=[22,38,19,15,48,11,10,49,47,38,10,25,46,10,21,24,29,36,25,25]"
   ]
  },
  {
   "cell_type": "code",
   "execution_count": 37,
   "id": "605a557f",
   "metadata": {},
   "outputs": [
    {
     "data": {
      "text/plain": [
       "20"
      ]
     },
     "execution_count": 37,
     "metadata": {},
     "output_type": "execute_result"
    }
   ],
   "source": [
    "len(my_cricket_score)"
   ]
  },
  {
   "cell_type": "code",
   "execution_count": 38,
   "id": "c243c3e2",
   "metadata": {},
   "outputs": [
    {
     "data": {
      "text/plain": [
       "27.4"
      ]
     },
     "execution_count": 38,
     "metadata": {},
     "output_type": "execute_result"
    }
   ],
   "source": [
    "np.mean(my_cricket_score)"
   ]
  },
  {
   "cell_type": "code",
   "execution_count": 39,
   "id": "9ca8b255",
   "metadata": {},
   "outputs": [],
   "source": [
    "sample_mean=27.4"
   ]
  },
  {
   "cell_type": "markdown",
   "id": "416e73b6",
   "metadata": {},
   "source": [
    "null_hyphothesis=>>population mean/true=sample mean"
   ]
  },
  {
   "cell_type": "code",
   "execution_count": 41,
   "id": "c23e3692",
   "metadata": {},
   "outputs": [],
   "source": [
    "import scipy\n",
    "result=scipy.stats.ttest_1samp(my_cricket_score,15)"
   ]
  },
  {
   "cell_type": "code",
   "execution_count": 35,
   "id": "b84308aa",
   "metadata": {},
   "outputs": [
    {
     "data": {
      "text/plain": [
       "Ttest_1sampResult(statistic=4.131642363779888, pvalue=0.0005672503150661017)"
      ]
     },
     "execution_count": 35,
     "metadata": {},
     "output_type": "execute_result"
    }
   ],
   "source": [
    "result"
   ]
  },
  {
   "cell_type": "code",
   "execution_count": 42,
   "id": "2f80f0c7",
   "metadata": {},
   "outputs": [],
   "source": [
    "p_value=result[1]"
   ]
  },
  {
   "cell_type": "code",
   "execution_count": 43,
   "id": "f0809c80",
   "metadata": {},
   "outputs": [
    {
     "name": "stdout",
     "output_type": "stream",
     "text": [
      "reject the null hyphothesis\n"
     ]
    }
   ],
   "source": [
    "if p_value<=0.05:\n",
    "    print(\"reject the null hyphothesis\")\n",
    "\n",
    "else:\n",
    "    print(\"accept the null hyphthesis\")"
   ]
  },
  {
   "cell_type": "code",
   "execution_count": 44,
   "id": "87539c73",
   "metadata": {},
   "outputs": [
    {
     "data": {
      "text/plain": [
       "TtestResult(statistic=0.0, pvalue=1.0, df=19)"
      ]
     },
     "execution_count": 44,
     "metadata": {},
     "output_type": "execute_result"
    }
   ],
   "source": [
    "scipy.stats.ttest_1samp(my_cricket_score,27.4)"
   ]
  },
  {
   "cell_type": "code",
   "execution_count": 45,
   "id": "8e35299d",
   "metadata": {},
   "outputs": [],
   "source": [
    "p_value=scipy.stats.ttest_1samp(my_cricket_score,26)[1]"
   ]
  },
  {
   "cell_type": "code",
   "execution_count": 46,
   "id": "4dbac4f8",
   "metadata": {},
   "outputs": [
    {
     "data": {
      "text/plain": [
       "0.6461790490703262"
      ]
     },
     "execution_count": 46,
     "metadata": {},
     "output_type": "execute_result"
    }
   ],
   "source": [
    "p_value"
   ]
  },
  {
   "cell_type": "code",
   "execution_count": 47,
   "id": "95943c27",
   "metadata": {},
   "outputs": [
    {
     "name": "stdout",
     "output_type": "stream",
     "text": [
      "accept the null hyphthesis\n"
     ]
    }
   ],
   "source": [
    "if p_value<=0.05:\n",
    "    print(\"reject the null hyphothesis\")\n",
    "\n",
    "else:\n",
    "    print(\"accept the null hyphthesis\")"
   ]
  },
  {
   "cell_type": "code",
   "execution_count": 48,
   "id": "32482f63",
   "metadata": {},
   "outputs": [],
   "source": [
    "#two-sample t test(with respect to two independent sample)\n",
    "my_cricket_score=[22, 38, 29, 45, 48, 41, 40, 49, 47, 38, 20, 45, 46, 50, 21, 44, 29,36, 25, 24]\n",
    "\n",
    "virat_cricket_score=[33, 45, 23, 25, 46, 46, 46, 49, 49, 44, 44, 49, 25, 31, 25, 40, 30,20, 42, 37]"
   ]
  },
  {
   "cell_type": "code",
   "execution_count": 49,
   "id": "129b2b34",
   "metadata": {},
   "outputs": [],
   "source": [
    "first_sample_mean=np.mean(my_cricket_score)"
   ]
  },
  {
   "cell_type": "code",
   "execution_count": 50,
   "id": "c9e43bf3",
   "metadata": {},
   "outputs": [
    {
     "data": {
      "text/plain": [
       "36.85"
      ]
     },
     "execution_count": 50,
     "metadata": {},
     "output_type": "execute_result"
    }
   ],
   "source": [
    "first_sample_mean"
   ]
  },
  {
   "cell_type": "code",
   "execution_count": 51,
   "id": "485a6016",
   "metadata": {},
   "outputs": [],
   "source": [
    "second_sample_mean=np.mean(virat_cricket_score)"
   ]
  },
  {
   "cell_type": "code",
   "execution_count": 52,
   "id": "29bdb21c",
   "metadata": {},
   "outputs": [
    {
     "data": {
      "text/plain": [
       "37.45"
      ]
     },
     "execution_count": 52,
     "metadata": {},
     "output_type": "execute_result"
    }
   ],
   "source": [
    "second_sample_mean"
   ]
  },
  {
   "cell_type": "markdown",
   "id": "76432eee",
   "metadata": {},
   "source": [
    "my_null_hyphthesis=both sample mean will be equal"
   ]
  },
  {
   "cell_type": "code",
   "execution_count": 54,
   "id": "7137d21a",
   "metadata": {},
   "outputs": [],
   "source": [
    "t_stats,pvalue=scipy.stats.ttest_ind(my_cricket_score,virat_cricket_score)"
   ]
  },
  {
   "cell_type": "code",
   "execution_count": 55,
   "id": "4430d7dd",
   "metadata": {},
   "outputs": [
    {
     "data": {
      "text/plain": [
       "0.852719896255562"
      ]
     },
     "execution_count": 55,
     "metadata": {},
     "output_type": "execute_result"
    }
   ],
   "source": [
    "pvalue"
   ]
  },
  {
   "cell_type": "code",
   "execution_count": 56,
   "id": "fc86128e",
   "metadata": {},
   "outputs": [
    {
     "name": "stdout",
     "output_type": "stream",
     "text": [
      "Accept the null hyphothesis\n"
     ]
    }
   ],
   "source": [
    "if pvalue<=0.05:\n",
    "    print(\"reject the null hyphothesis\")\n",
    "else:\n",
    "    print(\"Accept the null hyphothesis\")"
   ]
  },
  {
   "cell_type": "code",
   "execution_count": 57,
   "id": "e72677b5",
   "metadata": {},
   "outputs": [],
   "source": [
    "import random\n",
    "population=[]\n",
    "for i in range(1,51):\n",
    "    population.append(random.randint(10,80))"
   ]
  },
  {
   "cell_type": "code",
   "execution_count": 58,
   "id": "f0fa7b24",
   "metadata": {},
   "outputs": [
    {
     "data": {
      "text/plain": [
       "50"
      ]
     },
     "execution_count": 58,
     "metadata": {},
     "output_type": "execute_result"
    }
   ],
   "source": [
    "len(population)"
   ]
  },
  {
   "cell_type": "code",
   "execution_count": 59,
   "id": "73090245",
   "metadata": {},
   "outputs": [],
   "source": [
    "my_cricket_score_from_first_inning=np.random.choice(population,size=20)"
   ]
  },
  {
   "cell_type": "code",
   "execution_count": 60,
   "id": "03e668ec",
   "metadata": {},
   "outputs": [],
   "source": [
    "my_cricket_score_from_second_inning=np.random.choice(population,size=20)"
   ]
  },
  {
   "cell_type": "code",
   "execution_count": 61,
   "id": "935d926c",
   "metadata": {},
   "outputs": [
    {
     "name": "stdout",
     "output_type": "stream",
     "text": [
      "[26 41 30 59 23 28 15 17 66 54 15 42 77 17 35 30 66 70 41 44]\n",
      "[28 74 28 78 42 17 58 74 74 59 41 77 54 52 33 25 41 17 78 35]\n"
     ]
    }
   ],
   "source": [
    "# paired sample t test\n",
    "# take a sample from sample population on different time interval\n",
    "\n",
    "print(my_cricket_score_from_first_inning)\n",
    "print(my_cricket_score_from_second_inning)"
   ]
  },
  {
   "cell_type": "code",
   "execution_count": 62,
   "id": "21cf3d01",
   "metadata": {},
   "outputs": [],
   "source": [
    "my_cricket_score_from_first_inning=[8,7,14,9,17,12,46,29,8,26,19,31,46,24,44,10,13,42,25,28]"
   ]
  },
  {
   "cell_type": "code",
   "execution_count": 63,
   "id": "de77c4eb",
   "metadata": {},
   "outputs": [
    {
     "data": {
      "text/plain": [
       "22.9"
      ]
     },
     "execution_count": 63,
     "metadata": {},
     "output_type": "execute_result"
    }
   ],
   "source": [
    "np.mean(my_cricket_score_from_first_inning)"
   ]
  },
  {
   "cell_type": "code",
   "execution_count": 64,
   "id": "f1ca0a16",
   "metadata": {},
   "outputs": [
    {
     "data": {
      "text/plain": [
       "49.25"
      ]
     },
     "execution_count": 64,
     "metadata": {},
     "output_type": "execute_result"
    }
   ],
   "source": [
    "np.mean(my_cricket_score_from_second_inning)"
   ]
  },
  {
   "cell_type": "code",
   "execution_count": 65,
   "id": "4b50bc72",
   "metadata": {},
   "outputs": [],
   "source": [
    "#my_null_hyphthesis=both sample mean will be equal"
   ]
  },
  {
   "cell_type": "code",
   "execution_count": 66,
   "id": "26e30aa4",
   "metadata": {},
   "outputs": [],
   "source": [
    "t_stats,p_value=scipy.stats.ttest_rel(my_cricket_score_from_first_inning,my_cricket_score_from_second_inning)"
   ]
  },
  {
   "cell_type": "code",
   "execution_count": 67,
   "id": "af9fb1c5",
   "metadata": {},
   "outputs": [
    {
     "data": {
      "text/plain": [
       "0.00018083182089419605"
      ]
     },
     "execution_count": 67,
     "metadata": {},
     "output_type": "execute_result"
    }
   ],
   "source": [
    "p_value"
   ]
  },
  {
   "cell_type": "code",
   "execution_count": 68,
   "id": "1bc810b1",
   "metadata": {},
   "outputs": [
    {
     "name": "stdout",
     "output_type": "stream",
     "text": [
      "reject the null hyphothesis\n"
     ]
    }
   ],
   "source": [
    "if p_value<=0.05:\n",
    "    print(\"reject the null hyphothesis\")\n",
    "else:\n",
    "    print(\"Accept the null hyphothesis\")"
   ]
  },
  {
   "cell_type": "markdown",
   "id": "c5529897",
   "metadata": {},
   "source": [
    "# The weights of 25 obese people were taken before enrolling them into the nutrition camp. The population mean weight is found to be 45 kg before starting the camp. After finishing the camp, for the same 25 people, the sample mean was found to be 75 with a standard deviation of 25. Did the fitness camp work?"
   ]
  },
  {
   "cell_type": "markdown",
   "id": "4a19a8e4",
   "metadata": {},
   "source": [
    "h0===> mu=45(sample mean is a true/population mean)\n",
    "\n",
    "h1===> mu != 45 (two tail test)(sample mean is not a true/populatin mean)"
   ]
  },
  {
   "cell_type": "markdown",
   "id": "f8081205",
   "metadata": {},
   "source": []
  },
  {
   "cell_type": "code",
   "execution_count": 71,
   "id": "085dc167",
   "metadata": {},
   "outputs": [],
   "source": [
    "n=25\n",
    "populaiton_mean=45\n",
    "sample_mean=75\n",
    "sample_std=25"
   ]
  },
  {
   "cell_type": "code",
   "execution_count": 72,
   "id": "36961ffd",
   "metadata": {},
   "outputs": [],
   "source": [
    "t_stats=(sample_mean-populaiton_mean)/(sample_std/np.sqrt(n))"
   ]
  },
  {
   "cell_type": "code",
   "execution_count": 73,
   "id": "34e946a9",
   "metadata": {},
   "outputs": [
    {
     "data": {
      "text/plain": [
       "6.0"
      ]
     },
     "execution_count": 73,
     "metadata": {},
     "output_type": "execute_result"
    }
   ],
   "source": [
    "t_stats"
   ]
  },
  {
   "cell_type": "code",
   "execution_count": 74,
   "id": "25df4fdf",
   "metadata": {},
   "outputs": [
    {
     "data": {
      "text/plain": [
       "30"
      ]
     },
     "execution_count": 74,
     "metadata": {},
     "output_type": "execute_result"
    }
   ],
   "source": [
    "sample_mean-populaiton_mean"
   ]
  },
  {
   "cell_type": "code",
   "execution_count": 75,
   "id": "7f02cd93",
   "metadata": {},
   "outputs": [],
   "source": [
    "df=n-1"
   ]
  },
  {
   "cell_type": "code",
   "execution_count": 76,
   "id": "307b00bd",
   "metadata": {},
   "outputs": [
    {
     "data": {
      "text/plain": [
       "24"
      ]
     },
     "execution_count": 76,
     "metadata": {},
     "output_type": "execute_result"
    }
   ],
   "source": [
    "df"
   ]
  },
  {
   "cell_type": "code",
   "execution_count": 77,
   "id": "d3ebe782",
   "metadata": {},
   "outputs": [],
   "source": [
    "alpha=0.05"
   ]
  },
  {
   "cell_type": "code",
   "execution_count": 78,
   "id": "a5a5b350",
   "metadata": {},
   "outputs": [],
   "source": [
    "CI=0.95"
   ]
  },
  {
   "cell_type": "code",
   "execution_count": 79,
   "id": "00f23351",
   "metadata": {},
   "outputs": [],
   "source": [
    "critical_value=stats.t.ppf(CI,df)"
   ]
  },
  {
   "cell_type": "code",
   "execution_count": 80,
   "id": "e3b8893f",
   "metadata": {},
   "outputs": [
    {
     "data": {
      "text/plain": [
       "1.7108820799094275"
      ]
     },
     "execution_count": 80,
     "metadata": {},
     "output_type": "execute_result"
    }
   ],
   "source": [
    "critical_value"
   ]
  },
  {
   "cell_type": "code",
   "execution_count": 81,
   "id": "bbe79e82",
   "metadata": {},
   "outputs": [
    {
     "name": "stdout",
     "output_type": "stream",
     "text": [
      "t-stats 6.0\n",
      "crtical value 1.7108820799094275\n"
     ]
    }
   ],
   "source": [
    "print(\"t-stats\",t_stats)\n",
    "print(\"crtical value\",critical_value)"
   ]
  },
  {
   "cell_type": "code",
   "execution_count": 82,
   "id": "d03d0207",
   "metadata": {},
   "outputs": [],
   "source": [
    "p_value=1-stats.t.cdf(t_stats,df)"
   ]
  },
  {
   "cell_type": "code",
   "execution_count": 83,
   "id": "34426672",
   "metadata": {},
   "outputs": [],
   "source": [
    "dataset=sns.load_dataset('tips')"
   ]
  },
  {
   "cell_type": "code",
   "execution_count": 84,
   "id": "88c52d1d",
   "metadata": {},
   "outputs": [
    {
     "data": {
      "text/html": [
       "<div>\n",
       "<style scoped>\n",
       "    .dataframe tbody tr th:only-of-type {\n",
       "        vertical-align: middle;\n",
       "    }\n",
       "\n",
       "    .dataframe tbody tr th {\n",
       "        vertical-align: top;\n",
       "    }\n",
       "\n",
       "    .dataframe thead th {\n",
       "        text-align: right;\n",
       "    }\n",
       "</style>\n",
       "<table border=\"1\" class=\"dataframe\">\n",
       "  <thead>\n",
       "    <tr style=\"text-align: right;\">\n",
       "      <th></th>\n",
       "      <th>total_bill</th>\n",
       "      <th>tip</th>\n",
       "      <th>sex</th>\n",
       "      <th>smoker</th>\n",
       "      <th>day</th>\n",
       "      <th>time</th>\n",
       "      <th>size</th>\n",
       "    </tr>\n",
       "  </thead>\n",
       "  <tbody>\n",
       "    <tr>\n",
       "      <th>0</th>\n",
       "      <td>16.99</td>\n",
       "      <td>1.01</td>\n",
       "      <td>Female</td>\n",
       "      <td>No</td>\n",
       "      <td>Sun</td>\n",
       "      <td>Dinner</td>\n",
       "      <td>2</td>\n",
       "    </tr>\n",
       "    <tr>\n",
       "      <th>1</th>\n",
       "      <td>10.34</td>\n",
       "      <td>1.66</td>\n",
       "      <td>Male</td>\n",
       "      <td>No</td>\n",
       "      <td>Sun</td>\n",
       "      <td>Dinner</td>\n",
       "      <td>3</td>\n",
       "    </tr>\n",
       "    <tr>\n",
       "      <th>2</th>\n",
       "      <td>21.01</td>\n",
       "      <td>3.50</td>\n",
       "      <td>Male</td>\n",
       "      <td>No</td>\n",
       "      <td>Sun</td>\n",
       "      <td>Dinner</td>\n",
       "      <td>3</td>\n",
       "    </tr>\n",
       "    <tr>\n",
       "      <th>3</th>\n",
       "      <td>23.68</td>\n",
       "      <td>3.31</td>\n",
       "      <td>Male</td>\n",
       "      <td>No</td>\n",
       "      <td>Sun</td>\n",
       "      <td>Dinner</td>\n",
       "      <td>2</td>\n",
       "    </tr>\n",
       "    <tr>\n",
       "      <th>4</th>\n",
       "      <td>24.59</td>\n",
       "      <td>3.61</td>\n",
       "      <td>Female</td>\n",
       "      <td>No</td>\n",
       "      <td>Sun</td>\n",
       "      <td>Dinner</td>\n",
       "      <td>4</td>\n",
       "    </tr>\n",
       "    <tr>\n",
       "      <th>...</th>\n",
       "      <td>...</td>\n",
       "      <td>...</td>\n",
       "      <td>...</td>\n",
       "      <td>...</td>\n",
       "      <td>...</td>\n",
       "      <td>...</td>\n",
       "      <td>...</td>\n",
       "    </tr>\n",
       "    <tr>\n",
       "      <th>239</th>\n",
       "      <td>29.03</td>\n",
       "      <td>5.92</td>\n",
       "      <td>Male</td>\n",
       "      <td>No</td>\n",
       "      <td>Sat</td>\n",
       "      <td>Dinner</td>\n",
       "      <td>3</td>\n",
       "    </tr>\n",
       "    <tr>\n",
       "      <th>240</th>\n",
       "      <td>27.18</td>\n",
       "      <td>2.00</td>\n",
       "      <td>Female</td>\n",
       "      <td>Yes</td>\n",
       "      <td>Sat</td>\n",
       "      <td>Dinner</td>\n",
       "      <td>2</td>\n",
       "    </tr>\n",
       "    <tr>\n",
       "      <th>241</th>\n",
       "      <td>22.67</td>\n",
       "      <td>2.00</td>\n",
       "      <td>Male</td>\n",
       "      <td>Yes</td>\n",
       "      <td>Sat</td>\n",
       "      <td>Dinner</td>\n",
       "      <td>2</td>\n",
       "    </tr>\n",
       "    <tr>\n",
       "      <th>242</th>\n",
       "      <td>17.82</td>\n",
       "      <td>1.75</td>\n",
       "      <td>Male</td>\n",
       "      <td>No</td>\n",
       "      <td>Sat</td>\n",
       "      <td>Dinner</td>\n",
       "      <td>2</td>\n",
       "    </tr>\n",
       "    <tr>\n",
       "      <th>243</th>\n",
       "      <td>18.78</td>\n",
       "      <td>3.00</td>\n",
       "      <td>Female</td>\n",
       "      <td>No</td>\n",
       "      <td>Thur</td>\n",
       "      <td>Dinner</td>\n",
       "      <td>2</td>\n",
       "    </tr>\n",
       "  </tbody>\n",
       "</table>\n",
       "<p>244 rows × 7 columns</p>\n",
       "</div>"
      ],
      "text/plain": [
       "     total_bill   tip     sex smoker   day    time  size\n",
       "0         16.99  1.01  Female     No   Sun  Dinner     2\n",
       "1         10.34  1.66    Male     No   Sun  Dinner     3\n",
       "2         21.01  3.50    Male     No   Sun  Dinner     3\n",
       "3         23.68  3.31    Male     No   Sun  Dinner     2\n",
       "4         24.59  3.61  Female     No   Sun  Dinner     4\n",
       "..          ...   ...     ...    ...   ...     ...   ...\n",
       "239       29.03  5.92    Male     No   Sat  Dinner     3\n",
       "240       27.18  2.00  Female    Yes   Sat  Dinner     2\n",
       "241       22.67  2.00    Male    Yes   Sat  Dinner     2\n",
       "242       17.82  1.75    Male     No   Sat  Dinner     2\n",
       "243       18.78  3.00  Female     No  Thur  Dinner     2\n",
       "\n",
       "[244 rows x 7 columns]"
      ]
     },
     "execution_count": 84,
     "metadata": {},
     "output_type": "execute_result"
    }
   ],
   "source": [
    "dataset"
   ]
  },
  {
   "cell_type": "code",
   "execution_count": 85,
   "id": "d5133cbe",
   "metadata": {},
   "outputs": [
    {
     "name": "stdout",
     "output_type": "stream",
     "text": [
      "<class 'pandas.core.frame.DataFrame'>\n",
      "RangeIndex: 244 entries, 0 to 243\n",
      "Data columns (total 7 columns):\n",
      " #   Column      Non-Null Count  Dtype   \n",
      "---  ------      --------------  -----   \n",
      " 0   total_bill  244 non-null    float64 \n",
      " 1   tip         244 non-null    float64 \n",
      " 2   sex         244 non-null    category\n",
      " 3   smoker      244 non-null    category\n",
      " 4   day         244 non-null    category\n",
      " 5   time        244 non-null    category\n",
      " 6   size        244 non-null    int64   \n",
      "dtypes: category(4), float64(2), int64(1)\n",
      "memory usage: 7.4 KB\n"
     ]
    }
   ],
   "source": [
    "dataset.info()"
   ]
  },
  {
   "cell_type": "code",
   "execution_count": 86,
   "id": "b7b7f675",
   "metadata": {},
   "outputs": [
    {
     "data": {
      "text/plain": [
       "Index(['total_bill', 'tip', 'sex', 'smoker', 'day', 'time', 'size'], dtype='object')"
      ]
     },
     "execution_count": 86,
     "metadata": {},
     "output_type": "execute_result"
    }
   ],
   "source": [
    "dataset.columns"
   ]
  },
  {
   "cell_type": "code",
   "execution_count": 87,
   "id": "c1ffc7b0",
   "metadata": {},
   "outputs": [],
   "source": [
    "# this chi squre test we peform on top of thge categorical data"
   ]
  },
  {
   "cell_type": "code",
   "execution_count": 88,
   "id": "51c5dbbe",
   "metadata": {},
   "outputs": [
    {
     "data": {
      "text/html": [
       "<div>\n",
       "<style scoped>\n",
       "    .dataframe tbody tr th:only-of-type {\n",
       "        vertical-align: middle;\n",
       "    }\n",
       "\n",
       "    .dataframe tbody tr th {\n",
       "        vertical-align: top;\n",
       "    }\n",
       "\n",
       "    .dataframe thead th {\n",
       "        text-align: right;\n",
       "    }\n",
       "</style>\n",
       "<table border=\"1\" class=\"dataframe\">\n",
       "  <thead>\n",
       "    <tr style=\"text-align: right;\">\n",
       "      <th></th>\n",
       "      <th>total_bill</th>\n",
       "      <th>tip</th>\n",
       "      <th>sex</th>\n",
       "      <th>smoker</th>\n",
       "      <th>day</th>\n",
       "      <th>time</th>\n",
       "      <th>size</th>\n",
       "    </tr>\n",
       "  </thead>\n",
       "  <tbody>\n",
       "    <tr>\n",
       "      <th>0</th>\n",
       "      <td>16.99</td>\n",
       "      <td>1.01</td>\n",
       "      <td>Female</td>\n",
       "      <td>No</td>\n",
       "      <td>Sun</td>\n",
       "      <td>Dinner</td>\n",
       "      <td>2</td>\n",
       "    </tr>\n",
       "    <tr>\n",
       "      <th>1</th>\n",
       "      <td>10.34</td>\n",
       "      <td>1.66</td>\n",
       "      <td>Male</td>\n",
       "      <td>No</td>\n",
       "      <td>Sun</td>\n",
       "      <td>Dinner</td>\n",
       "      <td>3</td>\n",
       "    </tr>\n",
       "    <tr>\n",
       "      <th>2</th>\n",
       "      <td>21.01</td>\n",
       "      <td>3.50</td>\n",
       "      <td>Male</td>\n",
       "      <td>No</td>\n",
       "      <td>Sun</td>\n",
       "      <td>Dinner</td>\n",
       "      <td>3</td>\n",
       "    </tr>\n",
       "    <tr>\n",
       "      <th>3</th>\n",
       "      <td>23.68</td>\n",
       "      <td>3.31</td>\n",
       "      <td>Male</td>\n",
       "      <td>No</td>\n",
       "      <td>Sun</td>\n",
       "      <td>Dinner</td>\n",
       "      <td>2</td>\n",
       "    </tr>\n",
       "    <tr>\n",
       "      <th>4</th>\n",
       "      <td>24.59</td>\n",
       "      <td>3.61</td>\n",
       "      <td>Female</td>\n",
       "      <td>No</td>\n",
       "      <td>Sun</td>\n",
       "      <td>Dinner</td>\n",
       "      <td>4</td>\n",
       "    </tr>\n",
       "  </tbody>\n",
       "</table>\n",
       "</div>"
      ],
      "text/plain": [
       "   total_bill   tip     sex smoker  day    time  size\n",
       "0       16.99  1.01  Female     No  Sun  Dinner     2\n",
       "1       10.34  1.66    Male     No  Sun  Dinner     3\n",
       "2       21.01  3.50    Male     No  Sun  Dinner     3\n",
       "3       23.68  3.31    Male     No  Sun  Dinner     2\n",
       "4       24.59  3.61  Female     No  Sun  Dinner     4"
      ]
     },
     "execution_count": 88,
     "metadata": {},
     "output_type": "execute_result"
    }
   ],
   "source": [
    "dataset.head()"
   ]
  },
  {
   "cell_type": "code",
   "execution_count": 89,
   "id": "3b3728c7",
   "metadata": {},
   "outputs": [
    {
     "data": {
      "text/html": [
       "<div>\n",
       "<style scoped>\n",
       "    .dataframe tbody tr th:only-of-type {\n",
       "        vertical-align: middle;\n",
       "    }\n",
       "\n",
       "    .dataframe tbody tr th {\n",
       "        vertical-align: top;\n",
       "    }\n",
       "\n",
       "    .dataframe thead th {\n",
       "        text-align: right;\n",
       "    }\n",
       "</style>\n",
       "<table border=\"1\" class=\"dataframe\">\n",
       "  <thead>\n",
       "    <tr style=\"text-align: right;\">\n",
       "      <th></th>\n",
       "      <th>sex</th>\n",
       "      <th>smoker</th>\n",
       "    </tr>\n",
       "  </thead>\n",
       "  <tbody>\n",
       "    <tr>\n",
       "      <th>0</th>\n",
       "      <td>Female</td>\n",
       "      <td>No</td>\n",
       "    </tr>\n",
       "    <tr>\n",
       "      <th>1</th>\n",
       "      <td>Male</td>\n",
       "      <td>No</td>\n",
       "    </tr>\n",
       "    <tr>\n",
       "      <th>2</th>\n",
       "      <td>Male</td>\n",
       "      <td>No</td>\n",
       "    </tr>\n",
       "    <tr>\n",
       "      <th>3</th>\n",
       "      <td>Male</td>\n",
       "      <td>No</td>\n",
       "    </tr>\n",
       "    <tr>\n",
       "      <th>4</th>\n",
       "      <td>Female</td>\n",
       "      <td>No</td>\n",
       "    </tr>\n",
       "    <tr>\n",
       "      <th>...</th>\n",
       "      <td>...</td>\n",
       "      <td>...</td>\n",
       "    </tr>\n",
       "    <tr>\n",
       "      <th>239</th>\n",
       "      <td>Male</td>\n",
       "      <td>No</td>\n",
       "    </tr>\n",
       "    <tr>\n",
       "      <th>240</th>\n",
       "      <td>Female</td>\n",
       "      <td>Yes</td>\n",
       "    </tr>\n",
       "    <tr>\n",
       "      <th>241</th>\n",
       "      <td>Male</td>\n",
       "      <td>Yes</td>\n",
       "    </tr>\n",
       "    <tr>\n",
       "      <th>242</th>\n",
       "      <td>Male</td>\n",
       "      <td>No</td>\n",
       "    </tr>\n",
       "    <tr>\n",
       "      <th>243</th>\n",
       "      <td>Female</td>\n",
       "      <td>No</td>\n",
       "    </tr>\n",
       "  </tbody>\n",
       "</table>\n",
       "<p>244 rows × 2 columns</p>\n",
       "</div>"
      ],
      "text/plain": [
       "        sex smoker\n",
       "0    Female     No\n",
       "1      Male     No\n",
       "2      Male     No\n",
       "3      Male     No\n",
       "4    Female     No\n",
       "..      ...    ...\n",
       "239    Male     No\n",
       "240  Female    Yes\n",
       "241    Male    Yes\n",
       "242    Male     No\n",
       "243  Female     No\n",
       "\n",
       "[244 rows x 2 columns]"
      ]
     },
     "execution_count": 89,
     "metadata": {},
     "output_type": "execute_result"
    }
   ],
   "source": [
    "dataset[[\"sex\",\"smoker\"]]"
   ]
  },
  {
   "cell_type": "code",
   "execution_count": 90,
   "id": "f59f8b3d",
   "metadata": {},
   "outputs": [],
   "source": [
    "import pandas as pd\n",
    "dataset_table=pd.crosstab(dataset[\"sex\"],dataset[\"smoker\"])"
   ]
  },
  {
   "cell_type": "code",
   "execution_count": 91,
   "id": "2bea22ef",
   "metadata": {},
   "outputs": [
    {
     "data": {
      "text/html": [
       "<div>\n",
       "<style scoped>\n",
       "    .dataframe tbody tr th:only-of-type {\n",
       "        vertical-align: middle;\n",
       "    }\n",
       "\n",
       "    .dataframe tbody tr th {\n",
       "        vertical-align: top;\n",
       "    }\n",
       "\n",
       "    .dataframe thead th {\n",
       "        text-align: right;\n",
       "    }\n",
       "</style>\n",
       "<table border=\"1\" class=\"dataframe\">\n",
       "  <thead>\n",
       "    <tr style=\"text-align: right;\">\n",
       "      <th>smoker</th>\n",
       "      <th>Yes</th>\n",
       "      <th>No</th>\n",
       "    </tr>\n",
       "    <tr>\n",
       "      <th>sex</th>\n",
       "      <th></th>\n",
       "      <th></th>\n",
       "    </tr>\n",
       "  </thead>\n",
       "  <tbody>\n",
       "    <tr>\n",
       "      <th>Male</th>\n",
       "      <td>60</td>\n",
       "      <td>97</td>\n",
       "    </tr>\n",
       "    <tr>\n",
       "      <th>Female</th>\n",
       "      <td>33</td>\n",
       "      <td>54</td>\n",
       "    </tr>\n",
       "  </tbody>\n",
       "</table>\n",
       "</div>"
      ],
      "text/plain": [
       "smoker  Yes  No\n",
       "sex            \n",
       "Male     60  97\n",
       "Female   33  54"
      ]
     },
     "execution_count": 91,
     "metadata": {},
     "output_type": "execute_result"
    }
   ],
   "source": [
    "dataset_table"
   ]
  },
  {
   "cell_type": "code",
   "execution_count": 92,
   "id": "9e979224",
   "metadata": {},
   "outputs": [],
   "source": [
    "dataset_array=dataset_table.values"
   ]
  },
  {
   "cell_type": "code",
   "execution_count": 93,
   "id": "d92e57f8",
   "metadata": {},
   "outputs": [],
   "source": [
    "observed_value=dataset_array"
   ]
  },
  {
   "cell_type": "code",
   "execution_count": 94,
   "id": "1484d644",
   "metadata": {},
   "outputs": [],
   "source": [
    "import scipy.stats as stats"
   ]
  },
  {
   "cell_type": "code",
   "execution_count": 95,
   "id": "93685d34",
   "metadata": {},
   "outputs": [],
   "source": [
    "stats_test,p,dof,Expected_Value=stats.chi2_contingency(dataset_array)"
   ]
  },
  {
   "cell_type": "code",
   "execution_count": 96,
   "id": "2f494076",
   "metadata": {},
   "outputs": [
    {
     "data": {
      "text/plain": [
       "array([[59.84016393, 97.15983607],\n",
       "       [33.15983607, 53.84016393]])"
      ]
     },
     "execution_count": 96,
     "metadata": {},
     "output_type": "execute_result"
    }
   ],
   "source": [
    "Expected_Value"
   ]
  },
  {
   "cell_type": "code",
   "execution_count": 97,
   "id": "7cca9efe",
   "metadata": {},
   "outputs": [],
   "source": [
    "no_of_col=dataset_table.iloc[0:2,0]"
   ]
  },
  {
   "cell_type": "code",
   "execution_count": 98,
   "id": "cde9117b",
   "metadata": {},
   "outputs": [
    {
     "data": {
      "text/plain": [
       "2"
      ]
     },
     "execution_count": 98,
     "metadata": {},
     "output_type": "execute_result"
    }
   ],
   "source": [
    "len(no_of_col)"
   ]
  },
  {
   "cell_type": "code",
   "execution_count": 99,
   "id": "485ac9eb",
   "metadata": {},
   "outputs": [],
   "source": [
    "no_of_row=dataset_table.iloc[0,0:2]"
   ]
  },
  {
   "cell_type": "code",
   "execution_count": 100,
   "id": "a91d97a7",
   "metadata": {},
   "outputs": [
    {
     "data": {
      "text/plain": [
       "2"
      ]
     },
     "execution_count": 100,
     "metadata": {},
     "output_type": "execute_result"
    }
   ],
   "source": [
    "len(no_of_row)"
   ]
  },
  {
   "cell_type": "code",
   "execution_count": 101,
   "id": "adadf3b4",
   "metadata": {},
   "outputs": [],
   "source": [
    "dof=(len(no_of_col)-1)*(len(no_of_row)-1)"
   ]
  },
  {
   "cell_type": "code",
   "execution_count": 102,
   "id": "a55b42a9",
   "metadata": {},
   "outputs": [
    {
     "data": {
      "text/plain": [
       "1"
      ]
     },
     "execution_count": 102,
     "metadata": {},
     "output_type": "execute_result"
    }
   ],
   "source": [
    "dof"
   ]
  },
  {
   "attachments": {
    "image.png": {
     "image/png": "[encoded data removed]"
    }
   },
   "cell_type": "markdown",
   "id": "49d9f675",
   "metadata": {},
   "source": [
    "![image.png](attachment:image.png)"
   ]
  },
  {
   "cell_type": "code",
   "execution_count": 103,
   "id": "869d4dbd",
   "metadata": {},
   "outputs": [
    {
     "name": "stdout",
     "output_type": "stream",
     "text": [
      "[60 97] [59.84016393 97.15983607]\n",
      "[33 54] [33.15983607 53.84016393]\n"
     ]
    }
   ],
   "source": [
    " for o,e in zip(observed_value,Expected_Value):\n",
    "        print(o,e)"
   ]
  },
  {
   "cell_type": "code",
   "execution_count": 104,
   "id": "48cff499",
   "metadata": {},
   "outputs": [],
   "source": [
    "from scipy.stats import chi2\n",
    "chisqure=sum([(o-e)**2/e for o,e in zip(observed_value,Expected_Value)])"
   ]
  },
  {
   "cell_type": "code",
   "execution_count": 105,
   "id": "327c4aef",
   "metadata": {},
   "outputs": [
    {
     "data": {
      "text/plain": [
       "array([0.00119737, 0.00073745])"
      ]
     },
     "execution_count": 105,
     "metadata": {},
     "output_type": "execute_result"
    }
   ],
   "source": [
    "chisqure"
   ]
  },
  {
   "cell_type": "code",
   "execution_count": 106,
   "id": "4b2ebc32",
   "metadata": {},
   "outputs": [],
   "source": [
    "chisqurestats=chisqure[0]+chisqure[1]"
   ]
  },
  {
   "cell_type": "code",
   "execution_count": 107,
   "id": "09c47231",
   "metadata": {},
   "outputs": [
    {
     "data": {
      "text/plain": [
       "0.001934818536627623"
      ]
     },
     "execution_count": 107,
     "metadata": {},
     "output_type": "execute_result"
    }
   ],
   "source": [
    "chisqurestats"
   ]
  },
  {
   "cell_type": "code",
   "execution_count": 108,
   "id": "77ca8f0c",
   "metadata": {},
   "outputs": [],
   "source": [
    "alpha=0.5\n",
    "Ci=0.95"
   ]
  },
  {
   "cell_type": "code",
   "execution_count": 109,
   "id": "e7755b55",
   "metadata": {},
   "outputs": [],
   "source": [
    "critical_chi_value=chi2.ppf(Ci,df=dof)"
   ]
  },
  {
   "cell_type": "code",
   "execution_count": 110,
   "id": "2b3f5903",
   "metadata": {},
   "outputs": [
    {
     "data": {
      "text/plain": [
       "3.841458820694124"
      ]
     },
     "execution_count": 110,
     "metadata": {},
     "output_type": "execute_result"
    }
   ],
   "source": [
    "critical_chi_value"
   ]
  },
  {
   "cell_type": "code",
   "execution_count": 111,
   "id": "09d9a491",
   "metadata": {},
   "outputs": [
    {
     "name": "stdout",
     "output_type": "stream",
     "text": [
      "accept the null hyphothesis there is no relation between two categorical variable\n"
     ]
    }
   ],
   "source": [
    "if chisqurestats>=critical_chi_value:\n",
    "    print(\" reject the null hyphothesis, there is a relatiuonship between two categorical variable\")\n",
    "else:\n",
    "    print(\"accept the null hyphothesis there is no relation between two categorical variable\")"
   ]
  },
  {
   "cell_type": "code",
   "execution_count": 112,
   "id": "e9ec0612",
   "metadata": {},
   "outputs": [],
   "source": [
    "from scipy.stats import f_oneway"
   ]
  },
  {
   "cell_type": "code",
   "execution_count": 113,
   "id": "4ddf03b8",
   "metadata": {},
   "outputs": [],
   "source": [
    "A1 = [20, 21, 19, 22, 20]\n",
    "A2 = [30, 29, 31, 32, 30]\n",
    "A3 = [25, 24, 26, 27, 28]"
   ]
  },
  {
   "cell_type": "code",
   "execution_count": 114,
   "id": "31cb4244",
   "metadata": {},
   "outputs": [],
   "source": [
    "f_stat, p_value = f_oneway(A1, A2, A3)"
   ]
  },
  {
   "cell_type": "code",
   "execution_count": 115,
   "id": "ea1cb0af",
   "metadata": {},
   "outputs": [
    {
     "name": "stdout",
     "output_type": "stream",
     "text": [
      "F-Statistic: 73.882\n",
      "P-Value: 0.000\n"
     ]
    }
   ],
   "source": [
    "print(f\"F-Statistic: {f_stat:.3f}\")\n",
    "print(f\"P-Value: {p_value:.3f}\")"
   ]
  },
  {
   "cell_type": "markdown",
   "id": "9c15433c",
   "metadata": {},
   "source": [
    "## Conclusion\n",
    "### 1.Z-Test: For large samples or known variance.\n",
    "### 2.T-Test: For small samples or unknown variance.\n",
    "### 3.Chi-Square Test: For categorical data relationships.\n",
    "### 4.ANOVA: For comparing multiple group means."
   ]
  },
  {
   "cell_type": "markdown",
   "id": "111d913e",
   "metadata": {},
   "source": []
  }
 ],
 "metadata": {
  "kernelspec": {
   "display_name": "base",
   "language": "python",
   "name": "python3"
  },
  "language_info": {
   "codemirror_mode": {
    "name": "ipython",
    "version": 3
   },
   "file_extension": ".py",
   "mimetype": "text/x-python",
   "name": "python",
   "nbconvert_exporter": "python",
   "pygments_lexer": "ipython3",
   "version": "3.11.5"
  }
 },
 "nbformat": 4,
 "nbformat_minor": 5
}
